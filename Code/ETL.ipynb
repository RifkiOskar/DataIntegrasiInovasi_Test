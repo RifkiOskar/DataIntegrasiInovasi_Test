{
 "cells": [
  {
   "cell_type": "code",
   "execution_count": 5,
   "id": "2eb6709f-6f2a-40ca-8138-dc44cdab5f14",
   "metadata": {},
   "outputs": [],
   "source": [
    "## Library\n",
    "from IPython.display import display\n",
    "from sqlalchemy import create_engine\n",
    "import pandas as pd\n",
    "from datetime import datetime"
   ]
  },
  {
   "cell_type": "code",
   "execution_count": 6,
   "id": "f8495e9b-a3e5-47cb-bccf-1bee8ce43734",
   "metadata": {},
   "outputs": [
    {
     "name": "stdout",
     "output_type": "stream",
     "text": [
      "=== Data Loaded ===\n",
      "Transactions: (498, 5)\n",
      "Customers: (100, 3)\n",
      "Products: (50, 4)\n",
      "\n"
     ]
    }
   ],
   "source": [
    "## Load Data\n",
    "\n",
    "transactions = pd.read_csv(\"../transactions.csv\")\n",
    "customers = pd.read_csv(\"../customers.csv\")\n",
    "products = pd.read_csv(\"../products.csv\")\n",
    "\n",
    "print(\"=== Data Loaded ===\")\n",
    "print(f\"Transactions: {transactions.shape}\")\n",
    "print(f\"Customers: {customers.shape}\")\n",
    "print(f\"Products: {products.shape}\\n\")"
   ]
  },
  {
   "cell_type": "code",
   "execution_count": 7,
   "id": "89b5c9a2-479c-42f5-8bbe-267d8e303a8d",
   "metadata": {},
   "outputs": [],
   "source": [
    "## Ubah type data column timestamp pada transaction menjadi datetime\n",
    "transactions['timestamp'] = pd.to_datetime(transactions['timestamp'], errors='coerce')"
   ]
  },
  {
   "cell_type": "code",
   "execution_count": 8,
   "id": "c9f57f24-dd73-492c-8e20-3e6158d155e9",
   "metadata": {},
   "outputs": [],
   "source": [
    "## Exclude quantity yang null pada column transaction\n",
    "transactions = transactions.dropna()"
   ]
  },
  {
   "cell_type": "code",
   "execution_count": 9,
   "id": "226141d8-833e-43b3-87fd-96bcae94b8f7",
   "metadata": {},
   "outputs": [],
   "source": [
    "## Merged Data\n",
    "merged = (\n",
    "    transactions.merge(customers, on=\"customer_id\", how=\"left\")\n",
    "    .merge(products, on=\"product_id\", how=\"left\")\n",
    ")"
   ]
  },
  {
   "cell_type": "code",
   "execution_count": 10,
   "id": "edee1d8e-5c84-4f6c-ad86-0b4ee773be96",
   "metadata": {},
   "outputs": [],
   "source": [
    "## Buat column price dan month\n",
    "merged[\"total_price\"] = merged[\"quantity\"] * merged[\"price\"]\n",
    "merged[\"month\"] = merged[\"timestamp\"].dt.to_period(\"M\").astype(str)"
   ]
  },
  {
   "cell_type": "code",
   "execution_count": 11,
   "id": "7cf42dc1-2394-4ef2-a03b-b8437f0ab621",
   "metadata": {},
   "outputs": [
    {
     "data": {
      "text/html": [
       "<div>\n",
       "<style scoped>\n",
       "    .dataframe tbody tr th:only-of-type {\n",
       "        vertical-align: middle;\n",
       "    }\n",
       "\n",
       "    .dataframe tbody tr th {\n",
       "        vertical-align: top;\n",
       "    }\n",
       "\n",
       "    .dataframe thead th {\n",
       "        text-align: right;\n",
       "    }\n",
       "</style>\n",
       "<table border=\"1\" class=\"dataframe\">\n",
       "  <thead>\n",
       "    <tr style=\"text-align: right;\">\n",
       "      <th></th>\n",
       "      <th>transaction_id</th>\n",
       "      <th>customer_id</th>\n",
       "      <th>product_id</th>\n",
       "      <th>timestamp</th>\n",
       "      <th>quantity</th>\n",
       "      <th>join_date</th>\n",
       "      <th>customer_location</th>\n",
       "      <th>product_name</th>\n",
       "      <th>product_category</th>\n",
       "      <th>price</th>\n",
       "      <th>total_price</th>\n",
       "      <th>month</th>\n",
       "    </tr>\n",
       "  </thead>\n",
       "  <tbody>\n",
       "    <tr>\n",
       "      <th>198</th>\n",
       "      <td>TRX0199</td>\n",
       "      <td>CUST049</td>\n",
       "      <td>PROD018</td>\n",
       "      <td>2025-04-01 14:00:00</td>\n",
       "      <td>1.0</td>\n",
       "      <td>2024-11-02</td>\n",
       "      <td>Bandung</td>\n",
       "      <td>Jaket Hoodie</td>\n",
       "      <td>Pakaian</td>\n",
       "      <td>400000</td>\n",
       "      <td>400000.0</td>\n",
       "      <td>2025-04</td>\n",
       "    </tr>\n",
       "    <tr>\n",
       "      <th>19</th>\n",
       "      <td>TRX0020</td>\n",
       "      <td>CUST014</td>\n",
       "      <td>PROD005</td>\n",
       "      <td>2023-08-20 10:40:00</td>\n",
       "      <td>5.0</td>\n",
       "      <td>2023-05-15</td>\n",
       "      <td>Jakarta</td>\n",
       "      <td>T-Shirt Katun</td>\n",
       "      <td>Pakaian</td>\n",
       "      <td>150000</td>\n",
       "      <td>750000.0</td>\n",
       "      <td>2023-08</td>\n",
       "    </tr>\n",
       "    <tr>\n",
       "      <th>76</th>\n",
       "      <td>TRX0077</td>\n",
       "      <td>CUST057</td>\n",
       "      <td>PROD037</td>\n",
       "      <td>2023-07-30 21:30:00</td>\n",
       "      <td>1.0</td>\n",
       "      <td>2023-07-25</td>\n",
       "      <td>Denpasar</td>\n",
       "      <td>Gaun Pesta</td>\n",
       "      <td>Pakaian</td>\n",
       "      <td>650000</td>\n",
       "      <td>650000.0</td>\n",
       "      <td>2023-07</td>\n",
       "    </tr>\n",
       "    <tr>\n",
       "      <th>113</th>\n",
       "      <td>TRX0114</td>\n",
       "      <td>CUST014</td>\n",
       "      <td>PROD016</td>\n",
       "      <td>2023-08-25 10:00:00</td>\n",
       "      <td>1.0</td>\n",
       "      <td>2023-05-15</td>\n",
       "      <td>Jakarta</td>\n",
       "      <td>Sprei Katun Jepang</td>\n",
       "      <td>Rumah Tangga</td>\n",
       "      <td>250000</td>\n",
       "      <td>250000.0</td>\n",
       "      <td>2023-08</td>\n",
       "    </tr>\n",
       "    <tr>\n",
       "      <th>51</th>\n",
       "      <td>TRX0052</td>\n",
       "      <td>CUST039</td>\n",
       "      <td>PROD009</td>\n",
       "      <td>2024-08-05 14:00:00</td>\n",
       "      <td>1.0</td>\n",
       "      <td>2024-06-01</td>\n",
       "      <td>Yogyakarta</td>\n",
       "      <td>Matras Yoga</td>\n",
       "      <td>Olahraga</td>\n",
       "      <td>300000</td>\n",
       "      <td>300000.0</td>\n",
       "      <td>2024-08</td>\n",
       "    </tr>\n",
       "  </tbody>\n",
       "</table>\n",
       "</div>"
      ],
      "text/plain": [
       "    transaction_id customer_id product_id           timestamp  quantity  \\\n",
       "198        TRX0199     CUST049    PROD018 2025-04-01 14:00:00       1.0   \n",
       "19         TRX0020     CUST014    PROD005 2023-08-20 10:40:00       5.0   \n",
       "76         TRX0077     CUST057    PROD037 2023-07-30 21:30:00       1.0   \n",
       "113        TRX0114     CUST014    PROD016 2023-08-25 10:00:00       1.0   \n",
       "51         TRX0052     CUST039    PROD009 2024-08-05 14:00:00       1.0   \n",
       "\n",
       "      join_date customer_location        product_name product_category  \\\n",
       "198  2024-11-02           Bandung        Jaket Hoodie          Pakaian   \n",
       "19   2023-05-15           Jakarta       T-Shirt Katun          Pakaian   \n",
       "76   2023-07-25          Denpasar          Gaun Pesta          Pakaian   \n",
       "113  2023-05-15           Jakarta  Sprei Katun Jepang     Rumah Tangga   \n",
       "51   2024-06-01        Yogyakarta         Matras Yoga         Olahraga   \n",
       "\n",
       "      price  total_price    month  \n",
       "198  400000     400000.0  2025-04  \n",
       "19   150000     750000.0  2023-08  \n",
       "76   650000     650000.0  2023-07  \n",
       "113  250000     250000.0  2023-08  \n",
       "51   300000     300000.0  2024-08  "
      ]
     },
     "execution_count": 11,
     "metadata": {},
     "output_type": "execute_result"
    }
   ],
   "source": [
    "merged.sample(5)"
   ]
  },
  {
   "cell_type": "code",
   "execution_count": 12,
   "id": "52d70013-3162-4a02-aa92-d1adae2cff7e",
   "metadata": {},
   "outputs": [],
   "source": [
    "## Ingest to database\n",
    "\n",
    "server = 'localhost'\n",
    "database = 'ecommerce'\n",
    "username = 'sa'               # user SQL Server\n",
    "password = 'admin'  # password login SQL Server\n",
    "table = 'analytic'\n",
    "\n",
    "# Driver bawaan SQL Server (pastikan sudah terinstall ODBC)\n",
    "connection_string = f\"mssql+pyodbc://{username}:{password}@{server}/{database}?driver=ODBC+Driver+17+for+SQL+Server\"\n",
    "engine = create_engine(connection_string)"
   ]
  },
  {
   "cell_type": "code",
   "execution_count": 13,
   "id": "b1d2b2a9-80b4-4875-93a3-9507687286e7",
   "metadata": {},
   "outputs": [
    {
     "data": {
      "text/plain": [
       "148"
      ]
     },
     "execution_count": 13,
     "metadata": {},
     "output_type": "execute_result"
    }
   ],
   "source": [
    "merged.to_sql(\n",
    "    name=table,\n",
    "    con=engine,\n",
    "    if_exists='replace',# bisa diganti 'append' kalau mau nambah data\n",
    "    index=False\n",
    ")"
   ]
  },
  {
   "cell_type": "code",
   "execution_count": 14,
   "id": "ae297056-6073-4646-ac90-a02e253b9e59",
   "metadata": {},
   "outputs": [
    {
     "data": {
      "text/html": [
       "<div>\n",
       "<style scoped>\n",
       "    .dataframe tbody tr th:only-of-type {\n",
       "        vertical-align: middle;\n",
       "    }\n",
       "\n",
       "    .dataframe tbody tr th {\n",
       "        vertical-align: top;\n",
       "    }\n",
       "\n",
       "    .dataframe thead th {\n",
       "        text-align: right;\n",
       "    }\n",
       "</style>\n",
       "<table border=\"1\" class=\"dataframe\">\n",
       "  <thead>\n",
       "    <tr style=\"text-align: right;\">\n",
       "      <th></th>\n",
       "      <th>total_rows</th>\n",
       "    </tr>\n",
       "  </thead>\n",
       "  <tbody>\n",
       "    <tr>\n",
       "      <th>0</th>\n",
       "      <td>496</td>\n",
       "    </tr>\n",
       "  </tbody>\n",
       "</table>\n",
       "</div>"
      ],
      "text/plain": [
       "   total_rows\n",
       "0         496"
      ]
     },
     "execution_count": 14,
     "metadata": {},
     "output_type": "execute_result"
    }
   ],
   "source": [
    "cek = \"\"\"\n",
    "SELECT COUNT(*) AS total_rows\n",
    "FROM ecommerce.dbo.analytic\n",
    "\"\"\"\n",
    "\n",
    "df = pd.read_sql_query(cek, con=engine)\n",
    "df.head()"
   ]
  },
  {
   "cell_type": "code",
   "execution_count": null,
   "id": "17306a6c-1263-4edd-ba2d-69f435fc21a9",
   "metadata": {},
   "outputs": [],
   "source": []
  }
 ],
 "metadata": {
  "kernelspec": {
   "display_name": "Python [conda env:base] *",
   "language": "python",
   "name": "conda-base-py"
  },
  "language_info": {
   "codemirror_mode": {
    "name": "ipython",
    "version": 3
   },
   "file_extension": ".py",
   "mimetype": "text/x-python",
   "name": "python",
   "nbconvert_exporter": "python",
   "pygments_lexer": "ipython3",
   "version": "3.12.7"
  }
 },
 "nbformat": 4,
 "nbformat_minor": 5
}
